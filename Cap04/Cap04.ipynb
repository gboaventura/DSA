{
 "cells": [
  {
   "cell_type": "code",
   "execution_count": 1,
   "id": "4792e6b6",
   "metadata": {},
   "outputs": [],
   "source": [
    "from platform import python_version"
   ]
  },
  {
   "cell_type": "code",
   "execution_count": 2,
   "id": "284b9990",
   "metadata": {},
   "outputs": [
    {
     "data": {
      "text/plain": [
       "8"
      ]
     },
     "execution_count": 2,
     "metadata": {},
     "output_type": "execute_result"
    }
   ],
   "source": [
    "#SUM\n",
    "4+4"
   ]
  },
  {
   "cell_type": "code",
   "execution_count": 4,
   "id": "cd26128b",
   "metadata": {},
   "outputs": [
    {
     "data": {
      "text/plain": [
       "1"
      ]
     },
     "execution_count": 4,
     "metadata": {},
     "output_type": "execute_result"
    }
   ],
   "source": [
    "#SUB\n",
    "4-3"
   ]
  },
  {
   "cell_type": "code",
   "execution_count": 6,
   "id": "8b2b762a",
   "metadata": {},
   "outputs": [
    {
     "data": {
      "text/plain": [
       "8"
      ]
     },
     "execution_count": 6,
     "metadata": {},
     "output_type": "execute_result"
    }
   ],
   "source": [
    "#MULTIPLY\n",
    "4*2"
   ]
  },
  {
   "cell_type": "code",
   "execution_count": 7,
   "id": "9c1d40d8",
   "metadata": {},
   "outputs": [
    {
     "data": {
      "text/plain": [
       "2.0"
      ]
     },
     "execution_count": 7,
     "metadata": {},
     "output_type": "execute_result"
    }
   ],
   "source": [
    "#DIVISION\n",
    "4/2"
   ]
  },
  {
   "cell_type": "code",
   "execution_count": 9,
   "id": "3f7db415",
   "metadata": {},
   "outputs": [
    {
     "data": {
      "text/plain": [
       "16"
      ]
     },
     "execution_count": 9,
     "metadata": {},
     "output_type": "execute_result"
    }
   ],
   "source": [
    "#POWER\n",
    "4**2"
   ]
  },
  {
   "cell_type": "code",
   "execution_count": 11,
   "id": "6262fb4e",
   "metadata": {},
   "outputs": [
    {
     "data": {
      "text/plain": [
       "1"
      ]
     },
     "execution_count": 11,
     "metadata": {},
     "output_type": "execute_result"
    }
   ],
   "source": [
    "#MODULE = REST OF DIVISION\n",
    "10%3"
   ]
  },
  {
   "cell_type": "code",
   "execution_count": 12,
   "id": "3fa2530f",
   "metadata": {},
   "outputs": [
    {
     "data": {
      "text/plain": [
       "int"
      ]
     },
     "execution_count": 12,
     "metadata": {},
     "output_type": "execute_result"
    }
   ],
   "source": [
    "#TYPE\n",
    "type(4)"
   ]
  },
  {
   "cell_type": "code",
   "execution_count": 14,
   "id": "99299e42",
   "metadata": {},
   "outputs": [
    {
     "data": {
      "text/plain": [
       "float"
      ]
     },
     "execution_count": 14,
     "metadata": {},
     "output_type": "execute_result"
    }
   ],
   "source": [
    "type(5.0)"
   ]
  },
  {
   "cell_type": "code",
   "execution_count": 15,
   "id": "6036c1af",
   "metadata": {},
   "outputs": [
    {
     "data": {
      "text/plain": [
       "str"
      ]
     },
     "execution_count": 15,
     "metadata": {},
     "output_type": "execute_result"
    }
   ],
   "source": [
    "type('hello world')"
   ]
  },
  {
   "cell_type": "code",
   "execution_count": 16,
   "id": "9fc07197",
   "metadata": {},
   "outputs": [
    {
     "data": {
      "text/plain": [
       "6.300000000000001"
      ]
     },
     "execution_count": 16,
     "metadata": {},
     "output_type": "execute_result"
    }
   ],
   "source": [
    "#FLOAT NUMBERS\n",
    "3.1+3.2"
   ]
  },
  {
   "cell_type": "code",
   "execution_count": 18,
   "id": "28566f42",
   "metadata": {},
   "outputs": [
    {
     "data": {
      "text/plain": [
       "5"
      ]
     },
     "execution_count": 18,
     "metadata": {},
     "output_type": "execute_result"
    }
   ],
   "source": [
    "3+2"
   ]
  },
  {
   "cell_type": "code",
   "execution_count": 19,
   "id": "6f3c1767",
   "metadata": {},
   "outputs": [
    {
     "data": {
      "text/plain": [
       "2.0"
      ]
     },
     "execution_count": 19,
     "metadata": {},
     "output_type": "execute_result"
    }
   ],
   "source": [
    "#DIVISION FLOAT\n",
    "4/2"
   ]
  },
  {
   "cell_type": "code",
   "execution_count": 20,
   "id": "4e37160d",
   "metadata": {},
   "outputs": [
    {
     "data": {
      "text/plain": [
       "2"
      ]
     },
     "execution_count": 20,
     "metadata": {},
     "output_type": "execute_result"
    }
   ],
   "source": [
    "#DIVISION INT\n",
    "4//2"
   ]
  },
  {
   "cell_type": "code",
   "execution_count": 22,
   "id": "b0676779",
   "metadata": {},
   "outputs": [
    {
     "data": {
      "text/plain": [
       "1.0"
      ]
     },
     "execution_count": 22,
     "metadata": {},
     "output_type": "execute_result"
    }
   ],
   "source": [
    "4//3.5"
   ]
  },
  {
   "cell_type": "code",
   "execution_count": 24,
   "id": "566852fd",
   "metadata": {},
   "outputs": [
    {
     "data": {
      "text/plain": [
       "0.5"
      ]
     },
     "execution_count": 24,
     "metadata": {},
     "output_type": "execute_result"
    }
   ],
   "source": [
    "4%3.5\n"
   ]
  },
  {
   "cell_type": "code",
   "execution_count": 25,
   "id": "3206fdf5",
   "metadata": {},
   "outputs": [
    {
     "data": {
      "text/plain": [
       "2.0"
      ]
     },
     "execution_count": 25,
     "metadata": {},
     "output_type": "execute_result"
    }
   ],
   "source": [
    "#CONVERSION\n",
    "float(2)"
   ]
  },
  {
   "cell_type": "code",
   "execution_count": 26,
   "id": "f871ae88",
   "metadata": {},
   "outputs": [
    {
     "data": {
      "text/plain": [
       "2"
      ]
     },
     "execution_count": 26,
     "metadata": {},
     "output_type": "execute_result"
    }
   ],
   "source": [
    "int(2.5)"
   ]
  },
  {
   "cell_type": "code",
   "execution_count": 27,
   "id": "ffc8cd9a",
   "metadata": {},
   "outputs": [
    {
     "data": {
      "text/plain": [
       "2"
      ]
     },
     "execution_count": 27,
     "metadata": {},
     "output_type": "execute_result"
    }
   ],
   "source": [
    "int(2.6)"
   ]
  },
  {
   "cell_type": "code",
   "execution_count": 28,
   "id": "c5907fcc",
   "metadata": {},
   "outputs": [
    {
     "data": {
      "text/plain": [
       "2"
      ]
     },
     "execution_count": 28,
     "metadata": {},
     "output_type": "execute_result"
    }
   ],
   "source": [
    "int(2.9)"
   ]
  },
  {
   "cell_type": "code",
   "execution_count": 29,
   "id": "1f0ca2f2",
   "metadata": {},
   "outputs": [
    {
     "data": {
      "text/plain": [
       "3"
      ]
     },
     "execution_count": 29,
     "metadata": {},
     "output_type": "execute_result"
    }
   ],
   "source": [
    "int(2.999999999999999999999999999999999)"
   ]
  },
  {
   "cell_type": "code",
   "execution_count": 30,
   "id": "a066da64",
   "metadata": {},
   "outputs": [
    {
     "data": {
      "text/plain": [
       "2"
      ]
     },
     "execution_count": 30,
     "metadata": {},
     "output_type": "execute_result"
    }
   ],
   "source": [
    "int(2.95)"
   ]
  },
  {
   "cell_type": "code",
   "execution_count": 31,
   "id": "fdf10215",
   "metadata": {},
   "outputs": [
    {
     "data": {
      "text/plain": [
       "2"
      ]
     },
     "execution_count": 31,
     "metadata": {},
     "output_type": "execute_result"
    }
   ],
   "source": [
    "int(2.99)"
   ]
  },
  {
   "cell_type": "code",
   "execution_count": 32,
   "id": "90347465",
   "metadata": {},
   "outputs": [
    {
     "data": {
      "text/plain": [
       "8"
      ]
     },
     "execution_count": 32,
     "metadata": {},
     "output_type": "execute_result"
    }
   ],
   "source": [
    "#ABSOLUTE\n",
    "abs(-8)"
   ]
  },
  {
   "cell_type": "code",
   "execution_count": 33,
   "id": "48b92091",
   "metadata": {},
   "outputs": [
    {
     "data": {
      "text/plain": [
       "2.84"
      ]
     },
     "execution_count": 33,
     "metadata": {},
     "output_type": "execute_result"
    }
   ],
   "source": [
    "#ROUND\n",
    "round(2.838383,2)"
   ]
  },
  {
   "cell_type": "code",
   "execution_count": 34,
   "id": "b85fcbc5",
   "metadata": {},
   "outputs": [
    {
     "data": {
      "text/plain": [
       "16"
      ]
     },
     "execution_count": 34,
     "metadata": {},
     "output_type": "execute_result"
    }
   ],
   "source": [
    "#POWER\n",
    "pow(4,2)"
   ]
  },
  {
   "cell_type": "code",
   "execution_count": 35,
   "id": "6e2a6ab8",
   "metadata": {},
   "outputs": [],
   "source": [
    "#VARIABLES\n",
    "var_test = 1"
   ]
  },
  {
   "cell_type": "code",
   "execution_count": 36,
   "id": "7d7ae99f",
   "metadata": {},
   "outputs": [
    {
     "data": {
      "text/plain": [
       "1"
      ]
     },
     "execution_count": 36,
     "metadata": {},
     "output_type": "execute_result"
    }
   ],
   "source": [
    "var_test"
   ]
  },
  {
   "cell_type": "code",
   "execution_count": 40,
   "id": "cb91315f",
   "metadata": {},
   "outputs": [
    {
     "name": "stdout",
     "output_type": "stream",
     "text": [
      "variable value is 1\n"
     ]
    }
   ],
   "source": [
    "print('variable value is', var_test)"
   ]
  },
  {
   "cell_type": "code",
   "execution_count": 41,
   "id": "a73749c8",
   "metadata": {},
   "outputs": [
    {
     "data": {
      "text/plain": [
       "int"
      ]
     },
     "execution_count": 41,
     "metadata": {},
     "output_type": "execute_result"
    }
   ],
   "source": [
    "type(var_test)"
   ]
  },
  {
   "cell_type": "code",
   "execution_count": 43,
   "id": "1f06eae3",
   "metadata": {},
   "outputs": [
    {
     "data": {
      "text/plain": [
       "float"
      ]
     },
     "execution_count": 43,
     "metadata": {},
     "output_type": "execute_result"
    }
   ],
   "source": [
    "var_test = 1.2\n",
    "type(var_test)"
   ]
  },
  {
   "cell_type": "code",
   "execution_count": 44,
   "id": "e9a8f9e9",
   "metadata": {},
   "outputs": [],
   "source": [
    "#MULTIPLE STATEMENT\n",
    "person1, person2, person3 = 'Bob', 'Maria', 'Ana'"
   ]
  },
  {
   "cell_type": "code",
   "execution_count": 45,
   "id": "93783f50",
   "metadata": {},
   "outputs": [
    {
     "data": {
      "text/plain": [
       "'Bob'"
      ]
     },
     "execution_count": 45,
     "metadata": {},
     "output_type": "execute_result"
    }
   ],
   "source": [
    "person1"
   ]
  },
  {
   "cell_type": "code",
   "execution_count": 46,
   "id": "3e30bf95",
   "metadata": {},
   "outputs": [
    {
     "data": {
      "text/plain": [
       "'Maria'"
      ]
     },
     "execution_count": 46,
     "metadata": {},
     "output_type": "execute_result"
    }
   ],
   "source": [
    "person2"
   ]
  },
  {
   "cell_type": "code",
   "execution_count": 47,
   "id": "3faa47dc",
   "metadata": {},
   "outputs": [
    {
     "data": {
      "text/plain": [
       "'Ana'"
      ]
     },
     "execution_count": 47,
     "metadata": {},
     "output_type": "execute_result"
    }
   ],
   "source": [
    "person3"
   ]
  },
  {
   "cell_type": "code",
   "execution_count": 48,
   "id": "c0ef4772",
   "metadata": {},
   "outputs": [],
   "source": [
    "fruit1 = fruit2 = fruit3 = 'Apple'"
   ]
  },
  {
   "cell_type": "code",
   "execution_count": 50,
   "id": "041b619d",
   "metadata": {},
   "outputs": [
    {
     "data": {
      "text/plain": [
       "'Apple'"
      ]
     },
     "execution_count": 50,
     "metadata": {},
     "output_type": "execute_result"
    }
   ],
   "source": [
    "fruit1"
   ]
  },
  {
   "cell_type": "code",
   "execution_count": 51,
   "id": "0afe2394",
   "metadata": {},
   "outputs": [
    {
     "data": {
      "text/plain": [
       "'Apple'"
      ]
     },
     "execution_count": 51,
     "metadata": {},
     "output_type": "execute_result"
    }
   ],
   "source": [
    "fruit3"
   ]
  },
  {
   "cell_type": "code",
   "execution_count": 52,
   "id": "5faf55b1",
   "metadata": {},
   "outputs": [],
   "source": [
    "width = 3"
   ]
  },
  {
   "cell_type": "code",
   "execution_count": 53,
   "id": "5c8f0907",
   "metadata": {},
   "outputs": [],
   "source": [
    "height = 4"
   ]
  },
  {
   "cell_type": "code",
   "execution_count": 56,
   "id": "2a65e74e",
   "metadata": {},
   "outputs": [],
   "source": [
    "area = width * height"
   ]
  },
  {
   "cell_type": "code",
   "execution_count": 57,
   "id": "1afb7a96",
   "metadata": {},
   "outputs": [
    {
     "data": {
      "text/plain": [
       "12"
      ]
     },
     "execution_count": 57,
     "metadata": {},
     "output_type": "execute_result"
    }
   ],
   "source": [
    "area"
   ]
  },
  {
   "cell_type": "code",
   "execution_count": 58,
   "id": "4e60332e",
   "metadata": {},
   "outputs": [],
   "source": [
    "perimeter = 2 * (width + height)"
   ]
  },
  {
   "cell_type": "code",
   "execution_count": 59,
   "id": "d2dde7d0",
   "metadata": {},
   "outputs": [
    {
     "data": {
      "text/plain": [
       "14"
      ]
     },
     "execution_count": 59,
     "metadata": {},
     "output_type": "execute_result"
    }
   ],
   "source": [
    "perimeter"
   ]
  },
  {
   "cell_type": "code",
   "execution_count": 60,
   "id": "e4aba241",
   "metadata": {},
   "outputs": [],
   "source": [
    "name = 'Bob'"
   ]
  },
  {
   "cell_type": "code",
   "execution_count": 61,
   "id": "996455f5",
   "metadata": {},
   "outputs": [],
   "source": [
    "surname = 'Marley'"
   ]
  },
  {
   "cell_type": "code",
   "execution_count": 65,
   "id": "ff2352a7",
   "metadata": {},
   "outputs": [],
   "source": [
    "full_name = name + ' ' +surname"
   ]
  },
  {
   "cell_type": "code",
   "execution_count": 66,
   "id": "c1adf4c7",
   "metadata": {},
   "outputs": [
    {
     "data": {
      "text/plain": [
       "'Bob Marley'"
      ]
     },
     "execution_count": 66,
     "metadata": {},
     "output_type": "execute_result"
    }
   ],
   "source": [
    "full_name"
   ]
  },
  {
   "cell_type": "code",
   "execution_count": 67,
   "id": "e1ccbdc3",
   "metadata": {},
   "outputs": [
    {
     "data": {
      "text/plain": [
       "\"we can mix the quotes in 'Python'\""
      ]
     },
     "execution_count": 67,
     "metadata": {},
     "output_type": "execute_result"
    }
   ],
   "source": [
    "#STRINGS\n",
    "\"we can mix the quotes in 'Python'\""
   ]
  },
  {
   "cell_type": "code",
   "execution_count": 72,
   "id": "1bcca090",
   "metadata": {},
   "outputs": [
    {
     "name": "stdout",
     "output_type": "stream",
     "text": [
      " testing \n",
      " strings \n",
      " in Python\n"
     ]
    }
   ],
   "source": [
    "print(' testing \\n strings \\n in Python')"
   ]
  },
  {
   "cell_type": "code",
   "execution_count": 73,
   "id": "486796e7",
   "metadata": {},
   "outputs": [],
   "source": [
    "s = 'Data Science Academy'"
   ]
  },
  {
   "cell_type": "code",
   "execution_count": 74,
   "id": "ebecc250",
   "metadata": {},
   "outputs": [
    {
     "name": "stdout",
     "output_type": "stream",
     "text": [
      "Data Science Academy\n"
     ]
    }
   ],
   "source": [
    "print(s)"
   ]
  },
  {
   "cell_type": "code",
   "execution_count": 75,
   "id": "f9ede66c",
   "metadata": {},
   "outputs": [],
   "source": [
    "#ELEMENTS"
   ]
  },
  {
   "cell_type": "code",
   "execution_count": 76,
   "id": "a80624b9",
   "metadata": {},
   "outputs": [
    {
     "data": {
      "text/plain": [
       "'D'"
      ]
     },
     "execution_count": 76,
     "metadata": {},
     "output_type": "execute_result"
    }
   ],
   "source": [
    "s[0]"
   ]
  },
  {
   "cell_type": "code",
   "execution_count": 77,
   "id": "ff6ab038",
   "metadata": {},
   "outputs": [
    {
     "data": {
      "text/plain": [
       "'a'"
      ]
     },
     "execution_count": 77,
     "metadata": {},
     "output_type": "execute_result"
    }
   ],
   "source": [
    "s[1]"
   ]
  },
  {
   "cell_type": "code",
   "execution_count": 78,
   "id": "65ba758a",
   "metadata": {},
   "outputs": [
    {
     "data": {
      "text/plain": [
       "' '"
      ]
     },
     "execution_count": 78,
     "metadata": {},
     "output_type": "execute_result"
    }
   ],
   "source": [
    "s[4]"
   ]
  },
  {
   "cell_type": "code",
   "execution_count": 87,
   "id": "0fa70f3e",
   "metadata": {},
   "outputs": [
    {
     "data": {
      "text/plain": [
       "'ata Science Academy'"
      ]
     },
     "execution_count": 87,
     "metadata": {},
     "output_type": "execute_result"
    }
   ],
   "source": [
    "s[1:]"
   ]
  },
  {
   "cell_type": "code",
   "execution_count": 89,
   "id": "6065b00a",
   "metadata": {},
   "outputs": [
    {
     "data": {
      "text/plain": [
       "'Data'"
      ]
     },
     "execution_count": 89,
     "metadata": {},
     "output_type": "execute_result"
    }
   ],
   "source": [
    "s[:4]"
   ]
  },
  {
   "cell_type": "code",
   "execution_count": 83,
   "id": "d5e2c98a",
   "metadata": {},
   "outputs": [
    {
     "data": {
      "text/plain": [
       "'Science'"
      ]
     },
     "execution_count": 83,
     "metadata": {},
     "output_type": "execute_result"
    }
   ],
   "source": [
    "s[5:12]"
   ]
  },
  {
   "cell_type": "code",
   "execution_count": 84,
   "id": "9e050a7f",
   "metadata": {},
   "outputs": [
    {
     "data": {
      "text/plain": [
       "'y'"
      ]
     },
     "execution_count": 84,
     "metadata": {},
     "output_type": "execute_result"
    }
   ],
   "source": [
    "s[-1]"
   ]
  },
  {
   "cell_type": "code",
   "execution_count": 85,
   "id": "956de755",
   "metadata": {},
   "outputs": [
    {
     "data": {
      "text/plain": [
       "'a'"
      ]
     },
     "execution_count": 85,
     "metadata": {},
     "output_type": "execute_result"
    }
   ],
   "source": [
    "s[-5]"
   ]
  },
  {
   "cell_type": "code",
   "execution_count": 86,
   "id": "d8ab232f",
   "metadata": {},
   "outputs": [
    {
     "data": {
      "text/plain": [
       "'Data Science Academ'"
      ]
     },
     "execution_count": 86,
     "metadata": {},
     "output_type": "execute_result"
    }
   ],
   "source": [
    "s[:-1]"
   ]
  },
  {
   "cell_type": "code",
   "execution_count": 90,
   "id": "1b153176",
   "metadata": {},
   "outputs": [
    {
     "data": {
      "text/plain": [
       "'Data Science Academy'"
      ]
     },
     "execution_count": 90,
     "metadata": {},
     "output_type": "execute_result"
    }
   ],
   "source": [
    "s[::1]"
   ]
  },
  {
   "cell_type": "code",
   "execution_count": 91,
   "id": "9da4c5f3",
   "metadata": {},
   "outputs": [
    {
     "data": {
      "text/plain": [
       "'Dt cec cdm'"
      ]
     },
     "execution_count": 91,
     "metadata": {},
     "output_type": "execute_result"
    }
   ],
   "source": [
    "s[::2]"
   ]
  },
  {
   "cell_type": "code",
   "execution_count": 92,
   "id": "1f1b1935",
   "metadata": {},
   "outputs": [
    {
     "data": {
      "text/plain": [
       "'ymedacA ecneicS ataD'"
      ]
     },
     "execution_count": 92,
     "metadata": {},
     "output_type": "execute_result"
    }
   ],
   "source": [
    "s[::-1]"
   ]
  },
  {
   "cell_type": "code",
   "execution_count": 93,
   "id": "feaee556",
   "metadata": {},
   "outputs": [
    {
     "data": {
      "text/plain": [
       "'Data Science Academy'"
      ]
     },
     "execution_count": 93,
     "metadata": {},
     "output_type": "execute_result"
    }
   ],
   "source": [
    "s"
   ]
  },
  {
   "cell_type": "code",
   "execution_count": 95,
   "id": "87cbac79",
   "metadata": {},
   "outputs": [
    {
     "data": {
      "text/plain": [
       "'Data Science Academy is the best way to learn Data Science'"
      ]
     },
     "execution_count": 95,
     "metadata": {},
     "output_type": "execute_result"
    }
   ],
   "source": [
    "s + ' is the best way to learn Data Science'"
   ]
  },
  {
   "cell_type": "code",
   "execution_count": 96,
   "id": "cadac700",
   "metadata": {},
   "outputs": [],
   "source": [
    "letter = 'world'"
   ]
  },
  {
   "cell_type": "code",
   "execution_count": 97,
   "id": "53025a6f",
   "metadata": {},
   "outputs": [
    {
     "data": {
      "text/plain": [
       "'worldworldworld'"
      ]
     },
     "execution_count": 97,
     "metadata": {},
     "output_type": "execute_result"
    }
   ],
   "source": [
    "letter * 3"
   ]
  },
  {
   "cell_type": "code",
   "execution_count": 98,
   "id": "6bc4d564",
   "metadata": {},
   "outputs": [],
   "source": [
    "#BUILT-IN FUNCTIONS"
   ]
  },
  {
   "cell_type": "code",
   "execution_count": 103,
   "id": "b4606338",
   "metadata": {},
   "outputs": [
    {
     "data": {
      "text/plain": [
       "'Data Science Academy'"
      ]
     },
     "execution_count": 103,
     "metadata": {},
     "output_type": "execute_result"
    }
   ],
   "source": [
    "s"
   ]
  },
  {
   "cell_type": "code",
   "execution_count": 104,
   "id": "dbd75740",
   "metadata": {},
   "outputs": [],
   "source": [
    "#how to find attributes: dot and tab"
   ]
  },
  {
   "cell_type": "code",
   "execution_count": 105,
   "id": "e695419e",
   "metadata": {},
   "outputs": [
    {
     "data": {
      "text/plain": [
       "'DATA SCIENCE ACADEMY'"
      ]
     },
     "execution_count": 105,
     "metadata": {},
     "output_type": "execute_result"
    }
   ],
   "source": [
    "s.upper()"
   ]
  },
  {
   "cell_type": "code",
   "execution_count": 106,
   "id": "c64ac75b",
   "metadata": {},
   "outputs": [
    {
     "data": {
      "text/plain": [
       "'data science academy'"
      ]
     },
     "execution_count": 106,
     "metadata": {},
     "output_type": "execute_result"
    }
   ],
   "source": [
    "s.lower()"
   ]
  },
  {
   "cell_type": "code",
   "execution_count": 107,
   "id": "07bed39f",
   "metadata": {},
   "outputs": [
    {
     "data": {
      "text/plain": [
       "['Data', 'Science', 'Academy']"
      ]
     },
     "execution_count": 107,
     "metadata": {},
     "output_type": "execute_result"
    }
   ],
   "source": [
    "s.split()"
   ]
  },
  {
   "cell_type": "code",
   "execution_count": 109,
   "id": "95954ad7",
   "metadata": {},
   "outputs": [
    {
     "data": {
      "text/plain": [
       "['D', 't', ' Science Ac', 'demy']"
      ]
     },
     "execution_count": 109,
     "metadata": {},
     "output_type": "execute_result"
    }
   ],
   "source": [
    "s.split('a')"
   ]
  },
  {
   "cell_type": "code",
   "execution_count": 110,
   "id": "b2a0c2fd",
   "metadata": {},
   "outputs": [
    {
     "data": {
      "text/plain": [
       "'Data science academy'"
      ]
     },
     "execution_count": 110,
     "metadata": {},
     "output_type": "execute_result"
    }
   ],
   "source": [
    "s.capitalize()"
   ]
  },
  {
   "cell_type": "code",
   "execution_count": 112,
   "id": "e4994de1",
   "metadata": {},
   "outputs": [
    {
     "data": {
      "text/plain": [
       "3"
      ]
     },
     "execution_count": 112,
     "metadata": {},
     "output_type": "execute_result"
    }
   ],
   "source": [
    "s.count('a')"
   ]
  },
  {
   "cell_type": "code",
   "execution_count": 113,
   "id": "1c66f477",
   "metadata": {},
   "outputs": [],
   "source": [
    "s = '1000'"
   ]
  },
  {
   "cell_type": "code",
   "execution_count": 114,
   "id": "28323011",
   "metadata": {},
   "outputs": [
    {
     "data": {
      "text/plain": [
       "'1000'"
      ]
     },
     "execution_count": 114,
     "metadata": {},
     "output_type": "execute_result"
    }
   ],
   "source": [
    "s"
   ]
  },
  {
   "cell_type": "code",
   "execution_count": 115,
   "id": "d818994f",
   "metadata": {},
   "outputs": [
    {
     "data": {
      "text/plain": [
       "str"
      ]
     },
     "execution_count": 115,
     "metadata": {},
     "output_type": "execute_result"
    }
   ],
   "source": [
    "type(s)"
   ]
  },
  {
   "cell_type": "code",
   "execution_count": 116,
   "id": "09edfde9",
   "metadata": {},
   "outputs": [
    {
     "data": {
      "text/plain": [
       "1000.0"
      ]
     },
     "execution_count": 116,
     "metadata": {},
     "output_type": "execute_result"
    }
   ],
   "source": [
    "float(s)"
   ]
  },
  {
   "cell_type": "code",
   "execution_count": 117,
   "id": "9802ca2e",
   "metadata": {},
   "outputs": [
    {
     "data": {
      "text/plain": [
       "str"
      ]
     },
     "execution_count": 117,
     "metadata": {},
     "output_type": "execute_result"
    }
   ],
   "source": [
    "type(s)"
   ]
  },
  {
   "cell_type": "code",
   "execution_count": 118,
   "id": "238df185",
   "metadata": {},
   "outputs": [],
   "source": [
    "#LISTS\n",
    "list1 = ['rice, chicken, tomato, milk']"
   ]
  },
  {
   "cell_type": "code",
   "execution_count": 119,
   "id": "ef67da2b",
   "metadata": {},
   "outputs": [
    {
     "data": {
      "text/plain": [
       "list"
      ]
     },
     "execution_count": 119,
     "metadata": {},
     "output_type": "execute_result"
    }
   ],
   "source": [
    "type(list1)"
   ]
  },
  {
   "cell_type": "code",
   "execution_count": 120,
   "id": "7743b73d",
   "metadata": {},
   "outputs": [
    {
     "name": "stdout",
     "output_type": "stream",
     "text": [
      "['rice, chicken, tomato, milk']\n"
     ]
    }
   ],
   "source": [
    "print(list1)"
   ]
  },
  {
   "cell_type": "code",
   "execution_count": 121,
   "id": "e7f56b9d",
   "metadata": {},
   "outputs": [],
   "source": [
    "list2 = ['rice', 'chicken', 'tomato', 'milk']"
   ]
  },
  {
   "cell_type": "code",
   "execution_count": 122,
   "id": "1f7b40ae",
   "metadata": {},
   "outputs": [
    {
     "data": {
      "text/plain": [
       "list"
      ]
     },
     "execution_count": 122,
     "metadata": {},
     "output_type": "execute_result"
    }
   ],
   "source": [
    "type(list2)"
   ]
  },
  {
   "cell_type": "code",
   "execution_count": 123,
   "id": "fb3477db",
   "metadata": {},
   "outputs": [
    {
     "name": "stdout",
     "output_type": "stream",
     "text": [
      "['rice', 'chicken', 'tomato', 'milk']\n"
     ]
    }
   ],
   "source": [
    "print(list2)"
   ]
  },
  {
   "cell_type": "code",
   "execution_count": 124,
   "id": "f33e4a61",
   "metadata": {},
   "outputs": [],
   "source": [
    "list3 = [20, 40, 'Data Science']"
   ]
  },
  {
   "cell_type": "code",
   "execution_count": 125,
   "id": "885bcd16",
   "metadata": {},
   "outputs": [
    {
     "data": {
      "text/plain": [
       "list"
      ]
     },
     "execution_count": 125,
     "metadata": {},
     "output_type": "execute_result"
    }
   ],
   "source": [
    "type(list3)"
   ]
  },
  {
   "cell_type": "code",
   "execution_count": 126,
   "id": "c04d5d6a",
   "metadata": {},
   "outputs": [
    {
     "name": "stdout",
     "output_type": "stream",
     "text": [
      "[20, 40, 'Data Science']\n"
     ]
    }
   ],
   "source": [
    "print(list3)"
   ]
  },
  {
   "cell_type": "code",
   "execution_count": 129,
   "id": "80039478",
   "metadata": {},
   "outputs": [],
   "source": [
    "item1 = list3[0]\n",
    "item2 = list3[1]\n",
    "item3 = list3[2]"
   ]
  },
  {
   "cell_type": "code",
   "execution_count": 130,
   "id": "6451ab84",
   "metadata": {},
   "outputs": [
    {
     "name": "stdout",
     "output_type": "stream",
     "text": [
      "20 40 Data Science\n"
     ]
    }
   ],
   "source": [
    "print(item1, item2, item3)"
   ]
  },
  {
   "cell_type": "code",
   "execution_count": 131,
   "id": "4fd9155f",
   "metadata": {},
   "outputs": [
    {
     "data": {
      "text/plain": [
       "['rice', 'chicken', 'tomato', 'milk']"
      ]
     },
     "execution_count": 131,
     "metadata": {},
     "output_type": "execute_result"
    }
   ],
   "source": [
    "list2"
   ]
  },
  {
   "cell_type": "code",
   "execution_count": 132,
   "id": "f20aadc7",
   "metadata": {},
   "outputs": [
    {
     "data": {
      "text/plain": [
       "'tomato'"
      ]
     },
     "execution_count": 132,
     "metadata": {},
     "output_type": "execute_result"
    }
   ],
   "source": [
    "list2[2]"
   ]
  },
  {
   "cell_type": "code",
   "execution_count": 134,
   "id": "dc3d2282",
   "metadata": {},
   "outputs": [
    {
     "data": {
      "text/plain": [
       "['rice', 'chicken', 'chocolate', 'milk']"
      ]
     },
     "execution_count": 134,
     "metadata": {},
     "output_type": "execute_result"
    }
   ],
   "source": [
    "list2[2] = 'chocolate'\n",
    "list2"
   ]
  },
  {
   "cell_type": "code",
   "execution_count": 135,
   "id": "29a2f087",
   "metadata": {},
   "outputs": [
    {
     "data": {
      "text/plain": [
       "['rice', 'chicken', 'milk']"
      ]
     },
     "execution_count": 135,
     "metadata": {},
     "output_type": "execute_result"
    }
   ],
   "source": [
    "del list2[2]\n",
    "list2"
   ]
  },
  {
   "cell_type": "code",
   "execution_count": 136,
   "id": "1d6e7618",
   "metadata": {},
   "outputs": [],
   "source": [
    "list1 = [ [1,2,3], [14,165,23], [62.6,34.5,5.4] ]"
   ]
  },
  {
   "cell_type": "code",
   "execution_count": 137,
   "id": "9d15537e",
   "metadata": {},
   "outputs": [
    {
     "name": "stdout",
     "output_type": "stream",
     "text": [
      "[[1, 2, 3], [14, 165, 23], [62.6, 34.5, 5.4]]\n"
     ]
    }
   ],
   "source": [
    "print(list1)"
   ]
  },
  {
   "cell_type": "code",
   "execution_count": 140,
   "id": "9e8d494c",
   "metadata": {},
   "outputs": [],
   "source": [
    "a = list1[0]"
   ]
  },
  {
   "cell_type": "code",
   "execution_count": 141,
   "id": "26887ec0",
   "metadata": {},
   "outputs": [
    {
     "data": {
      "text/plain": [
       "[1, 2, 3]"
      ]
     },
     "execution_count": 141,
     "metadata": {},
     "output_type": "execute_result"
    }
   ],
   "source": [
    "a"
   ]
  },
  {
   "cell_type": "code",
   "execution_count": 142,
   "id": "17193067",
   "metadata": {},
   "outputs": [
    {
     "data": {
      "text/plain": [
       "1"
      ]
     },
     "execution_count": 142,
     "metadata": {},
     "output_type": "execute_result"
    }
   ],
   "source": [
    "b = a[0]\n",
    "b"
   ]
  },
  {
   "cell_type": "code",
   "execution_count": 143,
   "id": "6c13e1ec",
   "metadata": {},
   "outputs": [
    {
     "data": {
      "text/plain": [
       "[14, 165, 23]"
      ]
     },
     "execution_count": 143,
     "metadata": {},
     "output_type": "execute_result"
    }
   ],
   "source": [
    "list2 = list1[1]\n",
    "list2"
   ]
  },
  {
   "cell_type": "code",
   "execution_count": 144,
   "id": "eac4039a",
   "metadata": {},
   "outputs": [
    {
     "data": {
      "text/plain": [
       "14"
      ]
     },
     "execution_count": 144,
     "metadata": {},
     "output_type": "execute_result"
    }
   ],
   "source": [
    "value_1_0 = list2[0]\n",
    "value_1_0"
   ]
  },
  {
   "cell_type": "code",
   "execution_count": 145,
   "id": "eb89a4ca",
   "metadata": {},
   "outputs": [
    {
     "data": {
      "text/plain": [
       "[[1, 2, 3], [14, 165, 23], [62.6, 34.5, 5.4]]"
      ]
     },
     "execution_count": 145,
     "metadata": {},
     "output_type": "execute_result"
    }
   ],
   "source": [
    "list1"
   ]
  },
  {
   "cell_type": "code",
   "execution_count": 146,
   "id": "a29f1f38",
   "metadata": {},
   "outputs": [
    {
     "data": {
      "text/plain": [
       "165"
      ]
     },
     "execution_count": 146,
     "metadata": {},
     "output_type": "execute_result"
    }
   ],
   "source": [
    "a = list1[1][1]\n",
    "a"
   ]
  },
  {
   "cell_type": "code",
   "execution_count": 148,
   "id": "481f0213",
   "metadata": {},
   "outputs": [
    {
     "data": {
      "text/plain": [
       "50.0"
      ]
     },
     "execution_count": 148,
     "metadata": {},
     "output_type": "execute_result"
    }
   ],
   "source": [
    "b = list1[2][1] + 15.5\n",
    "b"
   ]
  },
  {
   "cell_type": "code",
   "execution_count": 150,
   "id": "0e46c0c6",
   "metadata": {},
   "outputs": [
    {
     "data": {
      "text/plain": [
       "10.0"
      ]
     },
     "execution_count": 150,
     "metadata": {},
     "output_type": "execute_result"
    }
   ],
   "source": [
    "c = (list1[0][0] * 300 + list1[1][1] + 35) / b\n",
    "c"
   ]
  },
  {
   "cell_type": "code",
   "execution_count": 151,
   "id": "d8a55cb7",
   "metadata": {},
   "outputs": [
    {
     "data": {
      "text/plain": [
       "[10, 14, 25, 19, 25, 63]"
      ]
     },
     "execution_count": 151,
     "metadata": {},
     "output_type": "execute_result"
    }
   ],
   "source": [
    "lists1 = [10, 14, 25]\n",
    "lists2 = [19, 25, 63]\n",
    "list_total = lists1 + lists2\n",
    "list_total"
   ]
  },
  {
   "cell_type": "code",
   "execution_count": 152,
   "id": "62b470f4",
   "metadata": {},
   "outputs": [
    {
     "data": {
      "text/plain": [
       "[10, 14, 25]"
      ]
     },
     "execution_count": 152,
     "metadata": {},
     "output_type": "execute_result"
    }
   ],
   "source": [
    "lists1"
   ]
  },
  {
   "cell_type": "code",
   "execution_count": 153,
   "id": "53602b38",
   "metadata": {},
   "outputs": [
    {
     "name": "stdout",
     "output_type": "stream",
     "text": [
      "True\n"
     ]
    }
   ],
   "source": [
    "print(10 in lists1)"
   ]
  },
  {
   "cell_type": "code",
   "execution_count": 154,
   "id": "332710da",
   "metadata": {},
   "outputs": [
    {
     "name": "stdout",
     "output_type": "stream",
     "text": [
      "False\n"
     ]
    }
   ],
   "source": [
    "print(100 in lists1)"
   ]
  },
  {
   "cell_type": "code",
   "execution_count": 157,
   "id": "fe3a9b38",
   "metadata": {},
   "outputs": [],
   "source": [
    "#BUILT IN\n",
    "list1 = [10, 40, 25, 36]"
   ]
  },
  {
   "cell_type": "code",
   "execution_count": 158,
   "id": "152e4759",
   "metadata": {},
   "outputs": [
    {
     "data": {
      "text/plain": [
       "[10, 40, 25, 36]"
      ]
     },
     "execution_count": 158,
     "metadata": {},
     "output_type": "execute_result"
    }
   ],
   "source": [
    "list1"
   ]
  },
  {
   "cell_type": "code",
   "execution_count": 159,
   "id": "c4eaa621",
   "metadata": {},
   "outputs": [
    {
     "data": {
      "text/plain": [
       "4"
      ]
     },
     "execution_count": 159,
     "metadata": {},
     "output_type": "execute_result"
    }
   ],
   "source": [
    "len(list1)"
   ]
  },
  {
   "cell_type": "code",
   "execution_count": 160,
   "id": "8a305847",
   "metadata": {},
   "outputs": [
    {
     "data": {
      "text/plain": [
       "40"
      ]
     },
     "execution_count": 160,
     "metadata": {},
     "output_type": "execute_result"
    }
   ],
   "source": [
    "max(list1)"
   ]
  },
  {
   "cell_type": "code",
   "execution_count": 161,
   "id": "c4c47884",
   "metadata": {},
   "outputs": [
    {
     "data": {
      "text/plain": [
       "10"
      ]
     },
     "execution_count": 161,
     "metadata": {},
     "output_type": "execute_result"
    }
   ],
   "source": [
    "min(list1)"
   ]
  },
  {
   "cell_type": "code",
   "execution_count": 162,
   "id": "ae0bd69b",
   "metadata": {},
   "outputs": [],
   "source": [
    "list_str = ['hello', 'good', 'bye']"
   ]
  },
  {
   "cell_type": "code",
   "execution_count": 163,
   "id": "50cc0cfb",
   "metadata": {},
   "outputs": [
    {
     "data": {
      "text/plain": [
       "['hello', 'good', 'bye']"
      ]
     },
     "execution_count": 163,
     "metadata": {},
     "output_type": "execute_result"
    }
   ],
   "source": [
    "list_str"
   ]
  },
  {
   "cell_type": "code",
   "execution_count": 164,
   "id": "5f127fee",
   "metadata": {},
   "outputs": [],
   "source": [
    "list_str.append('tschuss')"
   ]
  },
  {
   "cell_type": "code",
   "execution_count": 165,
   "id": "00f52b80",
   "metadata": {},
   "outputs": [
    {
     "data": {
      "text/plain": [
       "['hello', 'good', 'bye', 'tschuss']"
      ]
     },
     "execution_count": 165,
     "metadata": {},
     "output_type": "execute_result"
    }
   ],
   "source": [
    "list_str"
   ]
  },
  {
   "cell_type": "code",
   "execution_count": 166,
   "id": "6b2f63fe",
   "metadata": {},
   "outputs": [
    {
     "data": {
      "text/plain": [
       "['hello', 'good', 'bye', 'tschuss', 'tschuss']"
      ]
     },
     "execution_count": 166,
     "metadata": {},
     "output_type": "execute_result"
    }
   ],
   "source": [
    "list_str.append('tschuss')\n",
    "list_str"
   ]
  },
  {
   "cell_type": "code",
   "execution_count": 167,
   "id": "0de875ea",
   "metadata": {},
   "outputs": [
    {
     "data": {
      "text/plain": [
       "2"
      ]
     },
     "execution_count": 167,
     "metadata": {},
     "output_type": "execute_result"
    }
   ],
   "source": [
    "list_str.count('tschuss')"
   ]
  },
  {
   "cell_type": "code",
   "execution_count": 169,
   "id": "c93f8c87",
   "metadata": {},
   "outputs": [],
   "source": [
    "list_str.remove('tschuss')"
   ]
  },
  {
   "cell_type": "code",
   "execution_count": 170,
   "id": "2a32130b",
   "metadata": {},
   "outputs": [
    {
     "data": {
      "text/plain": [
       "['hello', 'good', 'bye', 'tschuss']"
      ]
     },
     "execution_count": 170,
     "metadata": {},
     "output_type": "execute_result"
    }
   ],
   "source": [
    "list_str"
   ]
  },
  {
   "cell_type": "code",
   "execution_count": 177,
   "id": "ca1bae91",
   "metadata": {},
   "outputs": [],
   "source": [
    "list_null = []"
   ]
  },
  {
   "cell_type": "code",
   "execution_count": 178,
   "id": "b34d0d70",
   "metadata": {},
   "outputs": [
    {
     "data": {
      "text/plain": [
       "list"
      ]
     },
     "execution_count": 178,
     "metadata": {},
     "output_type": "execute_result"
    }
   ],
   "source": [
    "type(list_null)"
   ]
  },
  {
   "cell_type": "code",
   "execution_count": 179,
   "id": "e4f27fc1",
   "metadata": {},
   "outputs": [
    {
     "data": {
      "text/plain": [
       "[10]"
      ]
     },
     "execution_count": 179,
     "metadata": {},
     "output_type": "execute_result"
    }
   ],
   "source": [
    "list_null.append(10)\n",
    "list_null"
   ]
  },
  {
   "cell_type": "code",
   "execution_count": 180,
   "id": "f8bded7a",
   "metadata": {},
   "outputs": [],
   "source": [
    "old_list = [1,15,26,234]"
   ]
  },
  {
   "cell_type": "code",
   "execution_count": 181,
   "id": "467128f4",
   "metadata": {},
   "outputs": [],
   "source": [
    "new_list = []"
   ]
  },
  {
   "cell_type": "code",
   "execution_count": 182,
   "id": "c9fb0183",
   "metadata": {},
   "outputs": [],
   "source": [
    "for item in old_list:\n",
    "    new_list.append(item)"
   ]
  },
  {
   "cell_type": "code",
   "execution_count": 183,
   "id": "24ceaff3",
   "metadata": {},
   "outputs": [
    {
     "data": {
      "text/plain": [
       "[1, 15, 26, 234]"
      ]
     },
     "execution_count": 183,
     "metadata": {},
     "output_type": "execute_result"
    }
   ],
   "source": [
    "new_list"
   ]
  },
  {
   "cell_type": "code",
   "execution_count": 184,
   "id": "0e672919",
   "metadata": {},
   "outputs": [
    {
     "data": {
      "text/plain": [
       "['Sao Paulo', 'New York', 'Paris', 'Rome']"
      ]
     },
     "execution_count": 184,
     "metadata": {},
     "output_type": "execute_result"
    }
   ],
   "source": [
    "city = (['Sao Paulo', 'New York'])\n",
    "city.extend(['Paris', 'Rome'])\n",
    "city"
   ]
  },
  {
   "cell_type": "code",
   "execution_count": 185,
   "id": "dca39cff",
   "metadata": {},
   "outputs": [
    {
     "data": {
      "text/plain": [
       "['Sao Paulo', 'New York', 50, 'Paris', 'Rome']"
      ]
     },
     "execution_count": 185,
     "metadata": {},
     "output_type": "execute_result"
    }
   ],
   "source": [
    "city.insert(2,50)\n",
    "city"
   ]
  },
  {
   "cell_type": "code",
   "execution_count": 187,
   "id": "9b4654cc",
   "metadata": {},
   "outputs": [
    {
     "data": {
      "text/plain": [
       "['Sao Paulo', 'New York', 'Paris', 'Rome']"
      ]
     },
     "execution_count": 187,
     "metadata": {},
     "output_type": "execute_result"
    }
   ],
   "source": [
    "city.remove(50)\n",
    "city"
   ]
  },
  {
   "cell_type": "code",
   "execution_count": 192,
   "id": "0b88e9a1",
   "metadata": {},
   "outputs": [],
   "source": [
    "x = [1, 5, 6, 4, 2, 3]"
   ]
  },
  {
   "cell_type": "code",
   "execution_count": 193,
   "id": "6a98b609",
   "metadata": {},
   "outputs": [
    {
     "data": {
      "text/plain": [
       "[1, 5, 6, 4, 2, 3]"
      ]
     },
     "execution_count": 193,
     "metadata": {},
     "output_type": "execute_result"
    }
   ],
   "source": [
    "x"
   ]
  },
  {
   "cell_type": "code",
   "execution_count": 194,
   "id": "ce9d6a96",
   "metadata": {},
   "outputs": [
    {
     "data": {
      "text/plain": [
       "[1, 2, 3, 4, 5, 6]"
      ]
     },
     "execution_count": 194,
     "metadata": {},
     "output_type": "execute_result"
    }
   ],
   "source": [
    "x.sort()\n",
    "x"
   ]
  },
  {
   "cell_type": "code",
   "execution_count": 195,
   "id": "ed005655",
   "metadata": {},
   "outputs": [],
   "source": [
    "students = ['Pedro', 24, 'Anna', 19, 'Jane', 27]"
   ]
  },
  {
   "cell_type": "code",
   "execution_count": 196,
   "id": "3016d719",
   "metadata": {},
   "outputs": [
    {
     "data": {
      "text/plain": [
       "['Pedro', 24, 'Anna', 19, 'Jane', 27]"
      ]
     },
     "execution_count": 196,
     "metadata": {},
     "output_type": "execute_result"
    }
   ],
   "source": [
    "students"
   ]
  },
  {
   "cell_type": "code",
   "execution_count": 197,
   "id": "971cbd79",
   "metadata": {},
   "outputs": [
    {
     "data": {
      "text/plain": [
       "list"
      ]
     },
     "execution_count": 197,
     "metadata": {},
     "output_type": "execute_result"
    }
   ],
   "source": [
    "type(students)"
   ]
  },
  {
   "cell_type": "code",
   "execution_count": 199,
   "id": "1ab14615",
   "metadata": {},
   "outputs": [
    {
     "data": {
      "text/plain": [
       "{'Pedro': 24, 'Anna': 19, 'Jane': 27}"
      ]
     },
     "execution_count": 199,
     "metadata": {},
     "output_type": "execute_result"
    }
   ],
   "source": [
    "#FOR DICTIONARY\n",
    "students = {'Pedro':24, 'Anna':19, 'Jane':27}\n",
    "students"
   ]
  },
  {
   "cell_type": "code",
   "execution_count": 200,
   "id": "ec354434",
   "metadata": {},
   "outputs": [
    {
     "data": {
      "text/plain": [
       "dict"
      ]
     },
     "execution_count": 200,
     "metadata": {},
     "output_type": "execute_result"
    }
   ],
   "source": [
    "type(students)"
   ]
  },
  {
   "cell_type": "code",
   "execution_count": 203,
   "id": "b6d91525",
   "metadata": {},
   "outputs": [
    {
     "data": {
      "text/plain": [
       "24"
      ]
     },
     "execution_count": 203,
     "metadata": {},
     "output_type": "execute_result"
    }
   ],
   "source": [
    "students['Pedro']"
   ]
  },
  {
   "cell_type": "code",
   "execution_count": 204,
   "id": "051a1b9e",
   "metadata": {},
   "outputs": [
    {
     "data": {
      "text/plain": [
       "29"
      ]
     },
     "execution_count": 204,
     "metadata": {},
     "output_type": "execute_result"
    }
   ],
   "source": [
    "students['Gustavo'] = 29\n",
    "students['Gustavo']"
   ]
  },
  {
   "cell_type": "code",
   "execution_count": 205,
   "id": "552381fb",
   "metadata": {},
   "outputs": [
    {
     "data": {
      "text/plain": [
       "{'Pedro': 24, 'Anna': 19, 'Jane': 27, 'Gustavo': 29}"
      ]
     },
     "execution_count": 205,
     "metadata": {},
     "output_type": "execute_result"
    }
   ],
   "source": [
    "students"
   ]
  },
  {
   "cell_type": "code",
   "execution_count": 206,
   "id": "ac188cdf",
   "metadata": {},
   "outputs": [
    {
     "data": {
      "text/plain": [
       "4"
      ]
     },
     "execution_count": 206,
     "metadata": {},
     "output_type": "execute_result"
    }
   ],
   "source": [
    "len(students)"
   ]
  },
  {
   "cell_type": "code",
   "execution_count": 208,
   "id": "a045bf0a",
   "metadata": {},
   "outputs": [
    {
     "data": {
      "text/plain": [
       "dict_keys(['Pedro', 'Anna', 'Jane', 'Gustavo'])"
      ]
     },
     "execution_count": 208,
     "metadata": {},
     "output_type": "execute_result"
    }
   ],
   "source": [
    "students.keys()"
   ]
  },
  {
   "cell_type": "code",
   "execution_count": 210,
   "id": "106f595c",
   "metadata": {},
   "outputs": [
    {
     "data": {
      "text/plain": [
       "dict_values([24, 19, 27, 29])"
      ]
     },
     "execution_count": 210,
     "metadata": {},
     "output_type": "execute_result"
    }
   ],
   "source": [
    "students.values()"
   ]
  },
  {
   "cell_type": "code",
   "execution_count": 211,
   "id": "223047c3",
   "metadata": {},
   "outputs": [
    {
     "data": {
      "text/plain": [
       "dict_items([('Pedro', 24), ('Anna', 19), ('Jane', 27), ('Gustavo', 29)])"
      ]
     },
     "execution_count": 211,
     "metadata": {},
     "output_type": "execute_result"
    }
   ],
   "source": [
    "students.items()"
   ]
  },
  {
   "cell_type": "code",
   "execution_count": 214,
   "id": "61c9254d",
   "metadata": {},
   "outputs": [],
   "source": [
    "students2 = {'Camila': 20, 'Edgar': 25}"
   ]
  },
  {
   "cell_type": "code",
   "execution_count": 215,
   "id": "358ef908",
   "metadata": {},
   "outputs": [
    {
     "data": {
      "text/plain": [
       "{'Pedro': 24, 'Anna': 19, 'Jane': 27, 'Gustavo': 29, 'Camila': 20, 'Edgar': 25}"
      ]
     },
     "execution_count": 215,
     "metadata": {},
     "output_type": "execute_result"
    }
   ],
   "source": [
    "students.update(students2)\n",
    "students"
   ]
  },
  {
   "cell_type": "code",
   "execution_count": 216,
   "id": "8d3151ee",
   "metadata": {},
   "outputs": [],
   "source": [
    "dic1 = {}"
   ]
  },
  {
   "cell_type": "code",
   "execution_count": 217,
   "id": "c18268f1",
   "metadata": {},
   "outputs": [
    {
     "data": {
      "text/plain": [
       "{}"
      ]
     },
     "execution_count": 217,
     "metadata": {},
     "output_type": "execute_result"
    }
   ],
   "source": [
    "dic1"
   ]
  },
  {
   "cell_type": "code",
   "execution_count": 218,
   "id": "bd9f78fe",
   "metadata": {},
   "outputs": [
    {
     "data": {
      "text/plain": [
       "{'one key': 2}"
      ]
     },
     "execution_count": 218,
     "metadata": {},
     "output_type": "execute_result"
    }
   ],
   "source": [
    "dic1['one key'] = 2\n",
    "dic1"
   ]
  },
  {
   "cell_type": "code",
   "execution_count": 224,
   "id": "5ba7c682",
   "metadata": {},
   "outputs": [],
   "source": [
    "#TUPLES immutable list"
   ]
  },
  {
   "cell_type": "code",
   "execution_count": 225,
   "id": "dc57f4a3",
   "metadata": {},
   "outputs": [
    {
     "data": {
      "text/plain": [
       "('Math', 23, 'Elephant', 4.5, 'Python')"
      ]
     },
     "execution_count": 225,
     "metadata": {},
     "output_type": "execute_result"
    }
   ],
   "source": [
    "tuple1 = ('Math', 23, 'Elephant', 4.5, 'Python')\n",
    "tuple1"
   ]
  },
  {
   "cell_type": "code",
   "execution_count": 227,
   "id": "dd21fc94",
   "metadata": {},
   "outputs": [
    {
     "data": {
      "text/plain": [
       "'Math'"
      ]
     },
     "execution_count": 227,
     "metadata": {},
     "output_type": "execute_result"
    }
   ],
   "source": [
    "tuple1[0]"
   ]
  },
  {
   "cell_type": "code",
   "execution_count": 228,
   "id": "631203bd",
   "metadata": {},
   "outputs": [
    {
     "data": {
      "text/plain": [
       "3"
      ]
     },
     "execution_count": 228,
     "metadata": {},
     "output_type": "execute_result"
    }
   ],
   "source": [
    "tuple1.index(4.5)"
   ]
  },
  {
   "cell_type": "code",
   "execution_count": 229,
   "id": "5b712c8c",
   "metadata": {},
   "outputs": [
    {
     "data": {
      "text/plain": [
       "('Math', 23, 'Elephant', 4.5, 'Python')"
      ]
     },
     "execution_count": 229,
     "metadata": {},
     "output_type": "execute_result"
    }
   ],
   "source": [
    "tuple1"
   ]
  },
  {
   "cell_type": "code",
   "execution_count": 230,
   "id": "c5754340",
   "metadata": {},
   "outputs": [
    {
     "data": {
      "text/plain": [
       "('A', 'B', 'C')"
      ]
     },
     "execution_count": 230,
     "metadata": {},
     "output_type": "execute_result"
    }
   ],
   "source": [
    "tuple1 = ('A', 'B', 'C')\n",
    "tuple1"
   ]
  },
  {
   "cell_type": "code",
   "execution_count": 231,
   "id": "689fbf10",
   "metadata": {},
   "outputs": [
    {
     "data": {
      "text/plain": [
       "['A', 'B', 'C']"
      ]
     },
     "execution_count": 231,
     "metadata": {},
     "output_type": "execute_result"
    }
   ],
   "source": [
    "list_tuple1 = list(tuple1)\n",
    "list_tuple1"
   ]
  },
  {
   "cell_type": "code",
   "execution_count": 233,
   "id": "cd1aef72",
   "metadata": {},
   "outputs": [
    {
     "data": {
      "text/plain": [
       "list"
      ]
     },
     "execution_count": 233,
     "metadata": {},
     "output_type": "execute_result"
    }
   ],
   "source": [
    "type(list_tuple1)"
   ]
  },
  {
   "cell_type": "code",
   "execution_count": 234,
   "id": "3e36ee7a",
   "metadata": {},
   "outputs": [
    {
     "data": {
      "text/plain": [
       "['A', 'B', 'C', 'D']"
      ]
     },
     "execution_count": 234,
     "metadata": {},
     "output_type": "execute_result"
    }
   ],
   "source": [
    "list_tuple1.append('D')\n",
    "list_tuple1"
   ]
  },
  {
   "cell_type": "code",
   "execution_count": 235,
   "id": "c5b49d77",
   "metadata": {},
   "outputs": [
    {
     "data": {
      "text/plain": [
       "('A', 'B', 'C', 'D')"
      ]
     },
     "execution_count": 235,
     "metadata": {},
     "output_type": "execute_result"
    }
   ],
   "source": [
    "tuple1 = tuple(list_tuple1)\n",
    "tuple1"
   ]
  },
  {
   "cell_type": "code",
   "execution_count": 236,
   "id": "091bc5a0",
   "metadata": {},
   "outputs": [
    {
     "data": {
      "text/plain": [
       "tuple"
      ]
     },
     "execution_count": 236,
     "metadata": {},
     "output_type": "execute_result"
    }
   ],
   "source": [
    "type(tuple1)"
   ]
  },
  {
   "cell_type": "code",
   "execution_count": null,
   "id": "3d059a1d",
   "metadata": {},
   "outputs": [],
   "source": []
  }
 ],
 "metadata": {
  "kernelspec": {
   "display_name": "Python 3 (ipykernel)",
   "language": "python",
   "name": "python3"
  },
  "language_info": {
   "codemirror_mode": {
    "name": "ipython",
    "version": 3
   },
   "file_extension": ".py",
   "mimetype": "text/x-python",
   "name": "python",
   "nbconvert_exporter": "python",
   "pygments_lexer": "ipython3",
   "version": "3.9.13"
  }
 },
 "nbformat": 4,
 "nbformat_minor": 5
}
