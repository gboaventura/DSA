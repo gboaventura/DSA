{
 "cells": [
  {
   "cell_type": "code",
   "execution_count": 1,
   "id": "6955eee1",
   "metadata": {},
   "outputs": [],
   "source": [
    "from platform import python_version"
   ]
  },
  {
   "cell_type": "code",
   "execution_count": 2,
   "id": "c2275cba",
   "metadata": {},
   "outputs": [
    {
     "name": "stdout",
     "output_type": "stream",
     "text": [
      "It`s true\n"
     ]
    }
   ],
   "source": [
    "#IF CONDITIONAL\n",
    "if 5>2:\n",
    "    print('It`s true')"
   ]
  },
  {
   "cell_type": "code",
   "execution_count": 3,
   "id": "444825a5",
   "metadata": {},
   "outputs": [
    {
     "name": "stdout",
     "output_type": "stream",
     "text": [
      "It`s not true\n"
     ]
    }
   ],
   "source": [
    "#IF ELSE\n",
    "if 5<2:\n",
    "    print('It`s true')\n",
    "else: \n",
    "    print('It`s not true')"
   ]
  },
  {
   "cell_type": "code",
   "execution_count": 6,
   "id": "f68d045a",
   "metadata": {},
   "outputs": [
    {
     "name": "stdout",
     "output_type": "stream",
     "text": [
      "Today it will rain\n"
     ]
    }
   ],
   "source": [
    "day = 'Tuesday'\n",
    "if day == 'Monday':\n",
    "    print('Today will be sunny')\n",
    "else:\n",
    "    print('Today it will rain')"
   ]
  },
  {
   "cell_type": "code",
   "execution_count": 10,
   "id": "488e3469",
   "metadata": {},
   "outputs": [
    {
     "name": "stdout",
     "output_type": "stream",
     "text": [
      "No weather forecast for selected time\n"
     ]
    }
   ],
   "source": [
    "#ELIF IS USED TO VALIDE MORE CONDITIONS\n",
    "day = 'Tuesday'\n",
    "if day == 'Monday':\n",
    "    print('Today will be sunny')\n",
    "elif day == 'Thursday':\n",
    "    print('Today it will rain')\n",
    "else: \n",
    "    print('No weather forecast for selected time')"
   ]
  },
  {
   "cell_type": "code",
   "execution_count": 11,
   "id": "2af39ed7",
   "metadata": {},
   "outputs": [
    {
     "name": "stdout",
     "output_type": "stream",
     "text": [
      "You can drive\n"
     ]
    }
   ],
   "source": [
    "#aligned conditionals\n",
    "age = 18\n",
    "if age > 17:\n",
    "    print('You can drive')"
   ]
  },
  {
   "cell_type": "code",
   "execution_count": 12,
   "id": "d56309a7",
   "metadata": {},
   "outputs": [
    {
     "name": "stdout",
     "output_type": "stream",
     "text": [
      "Ok, Bob. You can enter\n"
     ]
    }
   ],
   "source": [
    "Name = 'Bob'\n",
    "if age > 13:\n",
    "    if Name == 'Bob':\n",
    "        print('Ok, Bob. You can enter')\n",
    "    else:\n",
    "        print('Im sorry, you cannot enter')\n",
    "    "
   ]
  },
  {
   "cell_type": "code",
   "execution_count": 13,
   "id": "83abd4d6",
   "metadata": {},
   "outputs": [
    {
     "name": "stdout",
     "output_type": "stream",
     "text": [
      "Ok, Bob. You can enter\n"
     ]
    }
   ],
   "source": [
    "if age >= 13 and Name == 'Bob':\n",
    "    print('Ok, Bob. You can enter')"
   ]
  },
  {
   "cell_type": "code",
   "execution_count": 14,
   "id": "073f0b35",
   "metadata": {},
   "outputs": [
    {
     "name": "stdout",
     "output_type": "stream",
     "text": [
      "Ok, Bob. You can enter\n"
     ]
    }
   ],
   "source": [
    "if (age >= 13) or (Name == 'Bob'):\n",
    "    print('Ok, Bob. You can enter')"
   ]
  },
  {
   "cell_type": "code",
   "execution_count": 18,
   "id": "51a1e49d",
   "metadata": {},
   "outputs": [
    {
     "name": "stdout",
     "output_type": "stream",
     "text": [
      "both conditions are true\n"
     ]
    }
   ],
   "source": [
    "#logical operators (and, or and not)\n",
    "number = 4\n",
    "if (number > 2) and (number % 2 == 0 ):\n",
    "    print('both conditions are true')"
   ]
  },
  {
   "cell_type": "code",
   "execution_count": 20,
   "id": "fac0e249",
   "metadata": {},
   "outputs": [
    {
     "name": "stdout",
     "output_type": "stream",
     "text": [
      "at least one of the two sentences is false\n"
     ]
    }
   ],
   "source": [
    "if (number > 5) and (number % 2 == 0 ):\n",
    "    print('both conditions are true')\n",
    "else: \n",
    "    print('at least one of the two sentences is false')"
   ]
  },
  {
   "cell_type": "code",
   "execution_count": 21,
   "id": "b2fa04ce",
   "metadata": {},
   "outputs": [
    {
     "name": "stdout",
     "output_type": "stream",
     "text": [
      "at least one of the two sentences is true\n"
     ]
    }
   ],
   "source": [
    "if (number > 5) or (number % 2 == 0 ):\n",
    "    print('at least one of the two sentences is true')"
   ]
  },
  {
   "cell_type": "code",
   "execution_count": 22,
   "id": "15b2ec0f",
   "metadata": {},
   "outputs": [
    {
     "name": "stdout",
     "output_type": "stream",
     "text": [
      "both conditions are true\n"
     ]
    }
   ],
   "source": [
    "if not(number > 5) and (number % 2 == 0):\n",
    "    print('both conditions are true')"
   ]
  },
  {
   "cell_type": "code",
   "execution_count": 25,
   "id": "613dead7",
   "metadata": {},
   "outputs": [
    {
     "name": "stdout",
     "output_type": "stream",
     "text": [
      "the first two sentences are true and/or the third one too\n"
     ]
    }
   ],
   "source": [
    "if (not(number > 5) and (number % 2 == 0)) or (number == 4):\n",
    "    print('the first two sentences are true and/or the third one too')"
   ]
  },
  {
   "cell_type": "code",
   "execution_count": 27,
   "id": "2d35ac84",
   "metadata": {},
   "outputs": [
    {
     "name": "stdout",
     "output_type": "stream",
     "text": [
      "You were approved\n"
     ]
    }
   ],
   "source": [
    "subject = 'Data Science'\n",
    "final_grade = 70\n",
    "\n",
    "if subject == 'Data Science' and final_grade >= 70:\n",
    "    print('You were approved')\n",
    "else:\n",
    "    print('You were not approved')"
   ]
  },
  {
   "cell_type": "code",
   "execution_count": 29,
   "id": "bf05ffb9",
   "metadata": {},
   "outputs": [
    {
     "name": "stdout",
     "output_type": "stream",
     "text": [
      "You were approved in Data Science with 70 as final avarage\n"
     ]
    }
   ],
   "source": [
    "#PLACE HOLDERS\n",
    "subject = 'Data Science'\n",
    "final_grade = 70\n",
    "semester = 2\n",
    "\n",
    "if subject == 'Data Science' and final_grade >= 70 and semester != 1:\n",
    "    print('You were approved in %s with %r as final avarage' %(subject, final_grade))\n",
    "else:\n",
    "    print('You were not approved')"
   ]
  },
  {
   "cell_type": "code",
   "execution_count": 30,
   "id": "0c4a79b0",
   "metadata": {},
   "outputs": [
    {
     "name": "stdout",
     "output_type": "stream",
     "text": [
      "2\n",
      "3\n",
      "4\n"
     ]
    }
   ],
   "source": [
    "#lOOP\n",
    "tp = (2, 3, 4)\n",
    "for i in tp:\n",
    "    print(i)"
   ]
  },
  {
   "cell_type": "code",
   "execution_count": 31,
   "id": "968d46d3",
   "metadata": {},
   "outputs": [
    {
     "name": "stdout",
     "output_type": "stream",
     "text": [
      "Data\n",
      "Science\n",
      "Academy\n"
     ]
    }
   ],
   "source": [
    "StringsList = ['Data', 'Science', 'Academy']\n",
    "for i in StringsList:\n",
    "    print(i)"
   ]
  },
  {
   "cell_type": "code",
   "execution_count": 32,
   "id": "13291395",
   "metadata": {},
   "outputs": [
    {
     "name": "stdout",
     "output_type": "stream",
     "text": [
      "0\n",
      "1\n",
      "2\n",
      "3\n",
      "4\n"
     ]
    }
   ],
   "source": [
    "for ct in range(0,5):\n",
    "    print(ct)"
   ]
  },
  {
   "cell_type": "code",
   "execution_count": 33,
   "id": "0afc650d",
   "metadata": {},
   "outputs": [
    {
     "name": "stdout",
     "output_type": "stream",
     "text": [
      "14\n",
      "6\n",
      "8\n"
     ]
    }
   ],
   "source": [
    "lis = [1,123,14,5,6,7,8]\n",
    "for num in lis:\n",
    "    if num % 2 == 0:\n",
    "        print(num)"
   ]
  },
  {
   "cell_type": "code",
   "execution_count": 34,
   "id": "bc0b53d5",
   "metadata": {},
   "outputs": [
    {
     "name": "stdout",
     "output_type": "stream",
     "text": [
      "0\n",
      "2\n",
      "4\n",
      "6\n",
      "8\n",
      "10\n",
      "12\n",
      "14\n",
      "16\n",
      "18\n",
      "20\n",
      "22\n",
      "24\n",
      "26\n",
      "28\n",
      "30\n",
      "32\n",
      "34\n",
      "36\n",
      "38\n",
      "40\n",
      "42\n",
      "44\n",
      "46\n",
      "48\n",
      "50\n",
      "52\n",
      "54\n",
      "56\n",
      "58\n",
      "60\n",
      "62\n",
      "64\n",
      "66\n",
      "68\n",
      "70\n",
      "72\n",
      "74\n",
      "76\n",
      "78\n",
      "80\n",
      "82\n",
      "84\n",
      "86\n",
      "88\n",
      "90\n",
      "92\n",
      "94\n",
      "96\n",
      "98\n",
      "100\n"
     ]
    }
   ],
   "source": [
    "for i in range(0,101, 2):\n",
    "    print(i)"
   ]
  },
  {
   "cell_type": "code",
   "execution_count": 36,
   "id": "de270b2b",
   "metadata": {},
   "outputs": [
    {
     "name": "stdout",
     "output_type": "stream",
     "text": [
      "P\n",
      "y\n",
      "t\n",
      "h\n",
      "o\n",
      "n\n",
      " \n",
      "i\n",
      "s\n",
      " \n",
      "a\n",
      " \n",
      "n\n",
      "i\n",
      "c\n",
      "e\n",
      " \n",
      "p\n",
      "r\n",
      "o\n",
      "g\n",
      "r\n",
      "a\n",
      "m\n",
      "m\n",
      "i\n",
      "n\n",
      "g\n",
      " \n",
      "l\n",
      "a\n",
      "n\n",
      "g\n",
      "u\n",
      "a\n",
      "g\n",
      "e\n",
      "!\n"
     ]
    }
   ],
   "source": [
    "for caracter in 'Python is a nice programming language!':\n",
    "    print(caracter)"
   ]
  },
  {
   "cell_type": "code",
   "execution_count": 38,
   "id": "6a6fd4cd",
   "metadata": {
    "scrolled": true
   },
   "outputs": [
    {
     "name": "stdout",
     "output_type": "stream",
     "text": [
      "\n",
      " 0\n",
      "\n",
      " 0\n",
      "\n",
      " 0\n",
      "----\n",
      "\n",
      " 1\n",
      "\n",
      " 2\n",
      "\n",
      " 3\n",
      "----\n",
      "\n",
      " 2\n",
      "\n",
      " 4\n",
      "\n",
      " 6\n",
      "----\n",
      "\n",
      " 3\n",
      "\n",
      " 6\n",
      "\n",
      " 9\n",
      "----\n",
      "\n",
      " 4\n",
      "\n",
      " 8\n",
      "\n",
      " 12\n",
      "----\n"
     ]
    }
   ],
   "source": [
    "list1 = [0,1,2,3,4]\n",
    "list2 = [1,2,3]\n",
    "\n",
    "for list_element1 in list1:\n",
    "    for list_element2 in list2:\n",
    "        print('\\n', list_element1 * list_element2)\n",
    "    print('----')"
   ]
  },
  {
   "cell_type": "code",
   "execution_count": 40,
   "id": "7f47b8e9",
   "metadata": {},
   "outputs": [
    {
     "name": "stdout",
     "output_type": "stream",
     "text": [
      "the 56 number is in both lists\n"
     ]
    }
   ],
   "source": [
    "list1 = [10,15,37,85,97,234,54,56]\n",
    "list2 = [115,58,23,7,42,2,57,56]\n",
    "\n",
    "for list_element1 in list1:\n",
    "    for list_element2 in list2:\n",
    "        if list_element1 == 56 and list_element2 == 56:\n",
    "            print('the %s number is in both lists' %(list_element1))"
   ]
  },
  {
   "cell_type": "code",
   "execution_count": 46,
   "id": "17b53c98",
   "metadata": {},
   "outputs": [
    {
     "name": "stdout",
     "output_type": "stream",
     "text": [
      "the sum of the even numbers of the two lists is equal to 512\n"
     ]
    }
   ],
   "source": [
    "list1 = [10,15,37,85,97,234,54,56]\n",
    "list2 = [115,58,23,7,42,2,57,56]\n",
    "summ = 0\n",
    "\n",
    "for lis in [list1, list2]:\n",
    "    for num in lis:\n",
    "        if num % 2 == 0:\n",
    "            summ += num\n",
    "print('the sum of the even numbers of the two lists is equal to', summ )"
   ]
  },
  {
   "cell_type": "code",
   "execution_count": 47,
   "id": "af8615bb",
   "metadata": {},
   "outputs": [
    {
     "data": {
      "text/plain": [
       "[1, 2, 3, 4, 5, 6, 6, 5, 4, 3, 2, 1]"
      ]
     },
     "execution_count": 47,
     "metadata": {},
     "output_type": "execute_result"
    }
   ],
   "source": [
    "list1 = [1,2,3,4,5,6]\n",
    "list2 = [6,5,4,3,2,1]\n",
    "\n",
    "list1 + list2"
   ]
  },
  {
   "cell_type": "code",
   "execution_count": 48,
   "id": "872028a8",
   "metadata": {},
   "outputs": [
    {
     "name": "stdout",
     "output_type": "stream",
     "text": [
      "sum of pair values 672\n"
     ]
    }
   ],
   "source": [
    "summ = 0\n",
    "for lis in list1 + list2:\n",
    "    if num % 2 == 0:\n",
    "        summ += num\n",
    "print('sum of pair values', summ)"
   ]
  },
  {
   "cell_type": "code",
   "execution_count": 54,
   "id": "db8e6631",
   "metadata": {},
   "outputs": [
    {
     "name": "stdout",
     "output_type": "stream",
     "text": [
      "Higher number is: 645\n"
     ]
    }
   ],
   "source": [
    "matrix = [[41,123,54], [23,53,66], [645,85,134]]\n",
    "higher_number = 0\n",
    "for lin in matrix:\n",
    "    for num in lin:\n",
    "        if num > higher_number:\n",
    "            higher_number = num\n",
    "print('Higher number is:', higher_number )"
   ]
  },
  {
   "cell_type": "code",
   "execution_count": 57,
   "id": "5ea9a1ec",
   "metadata": {},
   "outputs": [
    {
     "name": "stdout",
     "output_type": "stream",
     "text": [
      "k1\n",
      "k2\n",
      "k3\n"
     ]
    }
   ],
   "source": [
    "dict = {'k1': 'Python', 'k2':'R', 'k3': 'Scala'}\n",
    "for item in dict:\n",
    "    print(item)"
   ]
  },
  {
   "cell_type": "code",
   "execution_count": 58,
   "id": "4d89f3f7",
   "metadata": {},
   "outputs": [
    {
     "name": "stdout",
     "output_type": "stream",
     "text": [
      "k1 Python\n",
      "k2 R\n",
      "k3 Scala\n"
     ]
    }
   ],
   "source": [
    "for k,v in dict.items():\n",
    "    print(k,v)"
   ]
  },
  {
   "cell_type": "code",
   "execution_count": 1,
   "id": "a0916e85",
   "metadata": {},
   "outputs": [
    {
     "name": "stdout",
     "output_type": "stream",
     "text": [
      "0\n",
      "1\n",
      "2\n",
      "3\n",
      "4\n",
      "5\n",
      "6\n",
      "7\n",
      "8\n",
      "9\n"
     ]
    }
   ],
   "source": [
    "#LOOP WHILE\n",
    "value = 0\n",
    "while value < 10:\n",
    "    print(value)\n",
    "    value = value + 1"
   ]
  },
  {
   "cell_type": "code",
   "execution_count": 5,
   "id": "c2635f64",
   "metadata": {},
   "outputs": [
    {
     "name": "stdout",
     "output_type": "stream",
     "text": [
      "9\n"
     ]
    }
   ],
   "source": [
    "value = 9\n",
    "while value < 10:\n",
    "    print(value)\n",
    "    value = value + 1"
   ]
  },
  {
   "cell_type": "code",
   "execution_count": 9,
   "id": "a9dd1460",
   "metadata": {},
   "outputs": [
    {
     "name": "stdout",
     "output_type": "stream",
     "text": [
      "the x value in this interaction is:  0\n",
      " x is still less than 10, summ one to x\n",
      "the x value in this interaction is:  1\n",
      " x is still less than 10, summ one to x\n",
      "the x value in this interaction is:  2\n",
      " x is still less than 10, summ one to x\n",
      "the x value in this interaction is:  3\n",
      " x is still less than 10, summ one to x\n",
      "the x value in this interaction is:  4\n",
      " x is still less than 10, summ one to x\n",
      "the x value in this interaction is:  5\n",
      " x is still less than 10, summ one to x\n",
      "the x value in this interaction is:  6\n",
      " x is still less than 10, summ one to x\n",
      "the x value in this interaction is:  7\n",
      " x is still less than 10, summ one to x\n",
      "the x value in this interaction is:  8\n",
      " x is still less than 10, summ one to x\n",
      "the x value in this interaction is:  9\n",
      " x is still less than 10, summ one to x\n",
      "Loop concluded\n",
      "10\n"
     ]
    }
   ],
   "source": [
    "x = 0\n",
    "while x < 10:\n",
    "    print('the x value in this interaction is: ', x)\n",
    "    print(' x is still less than 10, summ one to x')\n",
    "    x += 1\n",
    "else:\n",
    "    print('Loop concluded')\n",
    "print(x)"
   ]
  },
  {
   "cell_type": "code",
   "execution_count": 10,
   "id": "2739c9d0",
   "metadata": {},
   "outputs": [
    {
     "name": "stdout",
     "output_type": "stream",
     "text": [
      "0\n",
      "1\n",
      "2\n",
      "3\n"
     ]
    }
   ],
   "source": [
    "#PASS, BREAK and CONTINUE\n",
    "value = 0\n",
    "while value < 10:\n",
    "    if value == 4:\n",
    "        break\n",
    "    else:\n",
    "        pass\n",
    "    print(value)\n",
    "    value += 1"
   ]
  },
  {
   "cell_type": "code",
   "execution_count": 13,
   "id": "2671cc45",
   "metadata": {},
   "outputs": [
    {
     "name": "stdout",
     "output_type": "stream",
     "text": [
      "P\n",
      "y\n",
      "t\n",
      "h\n",
      "o\n",
      "n\n",
      " \n",
      " \n",
      "i\n",
      "s\n",
      "t\n",
      " \n",
      "w\n",
      "u\n",
      "n\n",
      "d\n",
      "e\n",
      "r\n",
      "b\n",
      "a\n",
      "r\n",
      "!\n"
     ]
    }
   ],
   "source": [
    "for letter in 'Python ZZZ ist wunderbar!':\n",
    "    if letter == 'Z':\n",
    "        continue\n",
    "    print(letter)"
   ]
  },
  {
   "cell_type": "code",
   "execution_count": 9,
   "id": "37d4398a",
   "metadata": {},
   "outputs": [
    {
     "name": "stdout",
     "output_type": "stream",
     "text": [
      "[2, 3, 5, 7, 11, 13, 17, 19, 23, 29]\n",
      "Wall time: 0 ns\n"
     ]
    }
   ],
   "source": [
    "%%time\n",
    "\n",
    "primos = []\n",
    "for num in range(2, 31):\n",
    "    eh_primo = True\n",
    "    i = 2\n",
    "    while i <= num // 2:\n",
    "        if num % i == 0:\n",
    "            eh_primo = False\n",
    "            break\n",
    "        i += 1\n",
    "    if eh_primo:\n",
    "        primos.append(num)\n",
    "print(primos)\n",
    "        \n",
    "        "
   ]
  },
  {
   "cell_type": "code",
   "execution_count": 15,
   "id": "ba2d67d6",
   "metadata": {},
   "outputs": [
    {
     "name": "stdout",
     "output_type": "stream",
     "text": [
      "2 is a primo number\n",
      "3 is a primo number\n",
      "5 is a primo number\n",
      "7 is a primo number\n",
      "11 is a primo number\n",
      "13 is a primo number\n",
      "17 is a primo number\n",
      "19 is a primo number\n",
      "23 is a primo number\n",
      "29 is a primo number\n",
      "Wall time: 0 ns\n"
     ]
    }
   ],
   "source": [
    "%%time\n",
    "\n",
    "for i in range(2,31):\n",
    "    j = 2\n",
    "    value = 0\n",
    "    while j < i:\n",
    "        if i % j == 0:\n",
    "            value = 1 \n",
    "            j = j + 1\n",
    "        else:\n",
    "            j = j + 1\n",
    "    if value == 0:\n",
    "        print(str(i) + ' is a primo number')\n",
    "        value = 0\n",
    "    else:\n",
    "        value = 0\n",
    "            "
   ]
  },
  {
   "cell_type": "code",
   "execution_count": null,
   "id": "52a48422",
   "metadata": {},
   "outputs": [],
   "source": []
  }
 ],
 "metadata": {
  "kernelspec": {
   "display_name": "Python 3 (ipykernel)",
   "language": "python",
   "name": "python3"
  },
  "language_info": {
   "codemirror_mode": {
    "name": "ipython",
    "version": 3
   },
   "file_extension": ".py",
   "mimetype": "text/x-python",
   "name": "python",
   "nbconvert_exporter": "python",
   "pygments_lexer": "ipython3",
   "version": "3.9.13"
  }
 },
 "nbformat": 4,
 "nbformat_minor": 5
}
